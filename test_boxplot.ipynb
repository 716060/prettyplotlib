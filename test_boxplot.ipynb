{
 "metadata": {
  "name": "test_boxplot"
 },
 "nbformat": 3,
 "nbformat_minor": 0,
 "worksheets": [
  {
   "cells": [
    {
     "cell_type": "markdown",
     "metadata": {},
     "source": [
      "Right now, the test_boxplot test is outputting the correct figures for the pdf and png, but not svg. The \n",
      "\n",
      "![Incorrect version of the boxplot as produced by the SVG engine](tests/result_images/test_boxplot/boxplot-svg-incorrect.png)\n",
      "\n",
      "...... oohhh nevermind Preview just sucks ass at previewing svg files"
     ]
    },
    {
     "cell_type": "code",
     "collapsed": false,
     "input": [],
     "language": "python",
     "metadata": {},
     "outputs": []
    }
   ],
   "metadata": {}
  }
 ]
}