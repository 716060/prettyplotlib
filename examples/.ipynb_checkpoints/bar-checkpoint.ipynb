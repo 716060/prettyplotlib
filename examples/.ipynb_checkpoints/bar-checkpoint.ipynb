{
 "metadata": {
  "name": ""
 },
 "nbformat": 3,
 "nbformat_minor": 0,
 "worksheets": [
  {
   "cells": [
    {
     "cell_type": "markdown",
     "metadata": {},
     "source": [
      "# `prettyplotlib.bar`\n",
      "\n",
      "The default `matplotlib` bar charts are okay, but they leave much to be desired."
     ]
    },
    {
     "cell_type": "code",
     "collapsed": false,
     "input": [
      "import matplotlib.pyplot as plt\n",
      "import numpy as np\n",
      "import string\n",
      "\n",
      "fig, ax = plt.subplots(1)\n",
      "\n",
      "np.random.seed(14)\n",
      "\n",
      "ax.bar(np.arange(10), np.abs(np.random.randn(10)))\n",
      "fig.savefig('bar_matplotlib_default.png')"
     ],
     "language": "python",
     "metadata": {},
     "outputs": [
      {
       "metadata": {},
       "output_type": "display_data",
       "png": "[encoded data removed]",
       "text": [
        "<matplotlib.figure.Figure at 0x106ac7090>"
       ]
      }
     ],
     "prompt_number": 19
    },
    {
     "cell_type": "code",
     "collapsed": false,
     "input": [
      "rands??"
     ],
     "language": "python",
     "metadata": {},
     "outputs": [],
     "prompt_number": 14
    },
    {
     "cell_type": "code",
     "collapsed": false,
     "input": [
      "np.float_"
     ],
     "language": "python",
     "metadata": {},
     "outputs": [
      {
       "metadata": {},
       "output_type": "pyout",
       "prompt_number": 37,
       "text": [
        "numpy.float64"
       ]
      }
     ],
     "prompt_number": 37
    },
    {
     "cell_type": "code",
     "collapsed": false,
     "input": [
      "import prettyplotlib as ppl\n",
      "from prettyplotlib import plt\n",
      "from pandas.util.testing import rands\n",
      "\n",
      "\n",
      "fig, ax = plt.subplots(1)\n",
      "\n",
      "np.random.seed(14)\n",
      "\n",
      "n = 4\n",
      "left = np.arange(n)\n",
      "height = [12, 50, 2, 23]#np.abs(np.random.randn(n))\n",
      "\n",
      "ppl.bar(ax, left, height)\n",
      "xmin, xmax = ax.get_xlim()\n",
      "xticks = left + 0.4\n",
      "ax.set_xlim(xmin-0.25, xmax)\n",
      "ax.set_xticks(xticks)\n",
      "ax.set_xticklabels([rands(5) for _ in range(n)])\n",
      "\n",
      "annotate_yrange_factor = 0.025\n",
      "ymin, ymax = ax.get_ylim()\n",
      "yrange = ymax - ymin\n",
      "# Reset ymax so there's enough room to see the annotation of the topmost bar\n",
      "ymax += yrange*0.1\n",
      "ax.set_ylim(ymin, ymax)\n",
      "yrange = ymax - ymin\n",
      "\n",
      "offset = yrange * annotate_yrange_factor\n",
      "for x, h in zip(xticks, height):\n",
      "    if type(h) is np.float_:\n",
      "        annotation = '%.3f' % h\n",
      "    else:\n",
      "        annotation = str(h)\n",
      "    ax.annotate(annotation, (x, h + offset),\n",
      "                verticalalignment='bottom', \n",
      "                horizontalalignment='center')\n",
      "\n",
      "fig.savefig('bar_prettyplotlib_default.png')"
     ],
     "language": "python",
     "metadata": {},
     "outputs": [
      {
       "metadata": {},
       "output_type": "display_data",
       "png": "[encoded data removed]",
       "text": [
        "<matplotlib.figure.Figure at 0x1057d7850>"
       ]
      }
     ],
     "prompt_number": 41
    },
    {
     "cell_type": "markdown",
     "metadata": {},
     "source": [
      "And as with `prettyplotlib.hist`, you can also add a grid:"
     ]
    },
    {
     "cell_type": "code",
     "collapsed": false,
     "input": [
      "import prettyplotlib as ppl\n",
      "from prettyplotlib import plt\n",
      "\n",
      "fig, ax = plt.subplots(1)\n",
      "\n",
      "np.random.seed(14)\n",
      "\n",
      "# 'y' for make a grid based on where the major ticks are on the y-axis\n",
      "ppl.bar(ax, np.arange(10), np.abs(np.random.randn(10)), grid='y')\n",
      "fig.savefig('bar_prettyplotlib_grid.png')"
     ],
     "language": "python",
     "metadata": {},
     "outputs": [
      {
       "metadata": {},
       "output_type": "display_data",
       "png": "[encoded data removed]",
       "text": [
        "<matplotlib.figure.Figure at 0x106abc150>"
       ]
      }
     ],
     "prompt_number": 3
    },
    {
     "cell_type": "code",
     "collapsed": false,
     "input": [
      "import prettyplotlib as ppl\n",
      "from prettyplotlib import plt\n",
      "import numpy as np\n",
      "import string\n",
      "\n",
      "fig, ax = plt.subplots(1)\n",
      "np.random.seed(14)\n",
      "n = 10\n",
      "ppl.bar(ax, np.arange(n), np.abs(np.random.randn(n)), annotate=True)"
     ],
     "language": "python",
     "metadata": {},
     "outputs": [
      {
       "output_type": "stream",
       "stream": "stdout",
       "text": [
        "annotate Trueannotating!"
       ]
      },
      {
       "metadata": {},
       "output_type": "display_data",
       "png": "[encoded data removed]",
       "text": [
        "<matplotlib.figure.Figure at 0x107ab5550>"
       ]
      }
     ],
     "prompt_number": 4
    },
    {
     "cell_type": "code",
     "collapsed": false,
     "input": [],
     "language": "python",
     "metadata": {},
     "outputs": []
    }
   ],
   "metadata": {}
  }
 ]
}