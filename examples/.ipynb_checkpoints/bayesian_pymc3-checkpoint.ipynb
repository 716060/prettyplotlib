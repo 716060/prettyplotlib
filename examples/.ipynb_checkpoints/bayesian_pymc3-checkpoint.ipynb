{
 "metadata": {
  "name": ""
 },
 "nbformat": 3,
 "nbformat_minor": 0,
 "worksheets": [
  {
   "cells": [
    {
     "cell_type": "markdown",
     "metadata": {
      "slideshow": {
       "slide_type": "slide"
      }
     },
     "source": [
      "<center><h1>Bayesian data analysis with PyMC3</h1><br>\n",
      "<h2>Thomas Wiecki</h2><br>\n",
      "<h2>Quantopian Inc.</h2><br>\n",
      "<br>\n",
      "First navigate **down** and then **right** to view all slides.\n",
      "</center>\n",
      "\n"
     ]
    },
    {
     "cell_type": "markdown",
     "metadata": {
      "slideshow": {
       "slide_type": "subslide"
      }
     },
     "source": [
      "# About me\n",
      "\n",
      "* PhD candidate at Brown studying decision making using Bayesian modeling.\n",
      "* Quantitative Researcher at [Quantopian Inc](https://www.quantopian.com): Building the world's first algorithmic trading platform in the web browser."
     ]
    },
    {
     "cell_type": "code",
     "collapsed": false,
     "input": [
      "Image('quantopian.png')"
     ],
     "language": "python",
     "metadata": {},
     "outputs": [
      {
       "ename": "NameError",
       "evalue": "name 'Image' is not defined",
       "output_type": "pyerr",
       "traceback": [
        "\u001b[0;31m---------------------------------------------------------------------------\u001b[0m\n\u001b[0;31mNameError\u001b[0m                                 Traceback (most recent call last)",
        "\u001b[0;32m<ipython-input-1-f1787dbc572c>\u001b[0m in \u001b[0;36m<module>\u001b[0;34m()\u001b[0m\n\u001b[0;32m----> 1\u001b[0;31m \u001b[0mImage\u001b[0m\u001b[0;34m(\u001b[0m\u001b[0;34m'quantopian.png'\u001b[0m\u001b[0;34m)\u001b[0m\u001b[0;34m\u001b[0m\u001b[0m\n\u001b[0m",
        "\u001b[0;31mNameError\u001b[0m: name 'Image' is not defined"
       ]
      }
     ],
     "prompt_number": 1
    },
    {
     "cell_type": "markdown",
     "metadata": {
      "slideshow": {
       "slide_type": "slide"
      }
     },
     "source": [
      "# Why should you care about Bayesian Data Analysis?"
     ]
    },
    {
     "cell_type": "code",
     "collapsed": false,
     "input": [
      "from IPython.display import Image\n",
      "import prettyplotlib as ppl\n",
      "from prettyplotlib import plt\n",
      "import numpy as np\n",
      "from matplotlib import rc\n",
      "rc('font',**{'family':'sans-serif','sans-serif':['Helvetica'], 'size': 22})\n",
      "rc('xtick', labelsize=14) \n",
      "rc('ytick', labelsize=14)\n",
      "## for Palatino and other serif fonts use:\n",
      "#rc('font',**{'family':'serif','serif':['Palatino']})\n",
      "rc('text', usetex=True)\n",
      "%matplotlib inline"
     ],
     "language": "python",
     "metadata": {
      "slideshow": {
       "slide_type": "skip"
      }
     },
     "outputs": [],
     "prompt_number": 2
    },
    {
     "cell_type": "code",
     "collapsed": false,
     "input": [
      "Image('backbox_ml.png')"
     ],
     "language": "python",
     "metadata": {
      "slideshow": {
       "slide_type": "subslide"
      }
     },
     "outputs": [
      {
       "metadata": {},
       "output_type": "pyout",
       "png": "YmFja2JveF9tbC5wbmc=\n",
       "prompt_number": 3,
       "text": [
        "<IPython.core.display.Image at 0x107543ad0>"
       ]
      }
     ],
     "prompt_number": 3
    },
    {
     "cell_type": "markdown",
     "metadata": {},
     "source": [
      "* Blackbox models not good at conveying **what** they have learned."
     ]
    },
    {
     "cell_type": "code",
     "collapsed": false,
     "input": [
      "Image('openbox_pp.png')"
     ],
     "language": "python",
     "metadata": {
      "slideshow": {
       "slide_type": "subslide"
      }
     },
     "outputs": [
      {
       "metadata": {},
       "output_type": "pyout",
       "png": "b3BlbmJveF9wcC5wbmc=\n",
       "prompt_number": 4,
       "text": [
        "<IPython.core.display.Image at 0x107543b90>"
       ]
      }
     ],
     "prompt_number": 4
    },
    {
     "cell_type": "markdown",
     "metadata": {
      "slideshow": {
       "slide_type": "subslide"
      }
     },
     "source": [
      "# Probabilistic Programming\n",
      "\n",
      "* Model **unknown causes** of a phenomenon as **random variables**.\n",
      "* Write a **programmatic story** of how **unknown causes** result in **observable data**.\n",
      "* Use **Bayes formula** to invert generative model to infer **unknown causes**."
     ]
    },
    {
     "cell_type": "markdown",
     "metadata": {
      "slideshow": {
       "slide_type": "slide"
      }
     },
     "source": [
      "# Random Variables as Probability Distributions\n",
      "\n",
      "* Represents our beliefs about an unknown state.\n",
      "* Probability distribution assigns a probability to each possible state.\n",
      "* **Not** a single number (e.g. most likely state)."
     ]
    },
    {
     "cell_type": "markdown",
     "metadata": {
      "slideshow": {
       "slide_type": "subslide"
      }
     },
     "source": [
      "# Coin-flipping experiment.\n",
      "\n",
      "* Given multiple flips, what is probability of getting heads?\n",
      "* Maximum Likelihood answer:\n",
      "\n",
      "$$\\frac{\\# \\text{heads}}{\\text{total throws}}$$\n",
      "\n",
      "* However: \n",
      "\n",
      "$$\\frac{50}{100} = \\frac{1}{2}$$\n",
      "\n",
      "* Clearly something is missing!\n",
      "* **Quantification of uncertainty.**"
     ]
    },
    {
     "cell_type": "markdown",
     "metadata": {
      "slideshow": {
       "slide_type": "subslide"
      }
     },
     "source": [
      "Moreover...\n",
      "\n",
      "* Consider a single flip which comes up heads:\n",
      "\n",
      "$$ P(\\text{heads}) = \\frac{1}{1} = 1 $$\n",
      "\n",
      "* Again, this doesn't seem right.\n",
      "* Incorporate **prior knowledge.**"
     ]
    },
    {
     "cell_type": "code",
     "collapsed": false,
     "input": [
      "from scipy import stats\n",
      "# set every possibility to be equally possible\n",
      "x_coin = np.linspace(0, 1, 101)"
     ],
     "language": "python",
     "metadata": {
      "slideshow": {
       "slide_type": "skip"
      }
     },
     "outputs": [],
     "prompt_number": 5
    },
    {
     "cell_type": "markdown",
     "metadata": {
      "slideshow": {
       "slide_type": "subslide"
      }
     },
     "source": [
      "## $$ \\text{Express probability of heads as random variable } \\theta$$"
     ]
    },
    {
     "cell_type": "code",
     "collapsed": false,
     "input": [
      "import prettyplotlib as ppl\n",
      "fig = plt.figure(figsize=(8, 6))\n",
      "ax = fig.add_subplot(111, xlabel=r'Hypothesis for chance of heads', \n",
      "            ylabel=r'Probability of hypothesis', \n",
      "            title=r'Prior probability distribution after no coin tosses')\n",
      "ppl.plot(ax, x_coin, stats.beta(2, 2).pdf(x_coin), linewidth=3.)\n",
      "ax.set_xticklabels([r'0\\%', r'20\\%', r'40\\%', r'60\\%', r'80\\%', r'100\\%']);\n",
      "fig.savefig('coin1.png')"
     ],
     "language": "python",
     "metadata": {
      "slideshow": {
       "slide_type": "skip"
      }
     },
     "outputs": [
      {
       "metadata": {},
       "output_type": "display_data",
       "png": "[encoded data removed]",
       "text": [
        "<matplotlib.figure.Figure at 0x108925a50>"
       ]
      }
     ],
     "prompt_number": 6
    },
    {
     "cell_type": "code",
     "collapsed": false,
     "input": [
      "Image('coin1.png')"
     ],
     "language": "python",
     "metadata": {
      "slideshow": {
       "slide_type": "-"
      }
     },
     "outputs": [
      {
       "metadata": {},
       "output_type": "pyout",
       "png": "[encoded data removed]",
       "prompt_number": 7,
       "text": [
        "<IPython.core.display.Image at 0x108911e50>"
       ]
      }
     ],
     "prompt_number": 7
    },
    {
     "cell_type": "markdown",
     "metadata": {},
     "source": [
      "$$ \\theta \\sim \\text{Beta}(2, 2) $$\n",
      "$$ P(\\theta) = \\text{Beta}(2, 2) $$"
     ]
    },
    {
     "cell_type": "code",
     "collapsed": false,
     "input": [
      "fig = plt.figure(figsize=(8, 6))\n",
      "ax = fig.add_subplot(111, xlabel='Hypothesis for chance of heads', \n",
      "            ylabel='Probability of hypothesis', \n",
      "            title='Posterior probability distribution after first heads')\n",
      "ppl.plot(ax, x_coin, stats.beta(3, 2).pdf(x_coin), linewidth=3.)\n",
      "ax.set_xticklabels([r'0\\%', r'20\\%', r'40\\%', r'60\\%', r'80\\%', r'100\\%']);\n",
      "plt.savefig('coin2.png')"
     ],
     "language": "python",
     "metadata": {
      "slideshow": {
       "slide_type": "skip"
      }
     },
     "outputs": [
      {
       "metadata": {},
       "output_type": "display_data",
       "png": "[encoded data removed]",
       "text": [
        "<matplotlib.figure.Figure at 0x108970550>"
       ]
      }
     ],
     "prompt_number": 8
    },
    {
     "cell_type": "code",
     "collapsed": false,
     "input": [
      "Image('coin2.png')"
     ],
     "language": "python",
     "metadata": {
      "slideshow": {
       "slide_type": "subslide"
      }
     },
     "outputs": [
      {
       "metadata": {},
       "output_type": "pyout",
       "png": "[encoded data removed]",
       "prompt_number": 9,
       "text": [
        "<IPython.core.display.Image at 0x10710cad0>"
       ]
      }
     ],
     "prompt_number": 9
    },
    {
     "cell_type": "markdown",
     "metadata": {},
     "source": [
      "$$ P(\\theta | h=1) = \\text{Beta}(3, 2) $$"
     ]
    },
    {
     "cell_type": "code",
     "collapsed": false,
     "input": [
      "fig = plt.figure(figsize=(8, 6))\n",
      "ax = fig.add_subplot(111, xlabel='Hypothesis for chance of heads', \n",
      "            ylabel='Probability of hypothesis', \n",
      "            title='Posterior probability distribution after 1 head, 1 tail')\n",
      "ppl.plot(ax, x_coin, stats.beta(3, 3).pdf(x_coin), linewidth=3.)\n",
      "ax.set_xticklabels(['0\\%', '20\\%', '40\\%', '60\\%', '80\\%', '100\\%']);\n",
      "fig.savefig('coin3.png')"
     ],
     "language": "python",
     "metadata": {
      "slideshow": {
       "slide_type": "skip"
      }
     },
     "outputs": [
      {
       "metadata": {},
       "output_type": "display_data",
       "png": "[encoded data removed]",
       "text": [
        "<matplotlib.figure.Figure at 0x108999a50>"
       ]
      }
     ],
     "prompt_number": 10
    },
    {
     "cell_type": "code",
     "collapsed": false,
     "input": [
      "Image('coin3.png')"
     ],
     "language": "python",
     "metadata": {
      "slideshow": {
       "slide_type": "subslide"
      }
     },
     "outputs": [
      {
       "metadata": {},
       "output_type": "pyout",
       "png": "[encoded data removed]",
       "prompt_number": 11,
       "text": [
        "<IPython.core.display.Image at 0x108959690>"
       ]
      }
     ],
     "prompt_number": 11
    },
    {
     "cell_type": "markdown",
     "metadata": {},
     "source": [
      "$$ P(\\theta | [h=1, t=1]) = \\text{Beta}(3, 3) $$"
     ]
    },
    {
     "cell_type": "code",
     "collapsed": false,
     "input": [
      "fig = plt.figure(figsize=(8, 6))\n",
      "ax = fig.add_subplot(111, xlabel='Hypothesis for chance of heads', \n",
      "            ylabel='Probability of hypothesis', \n",
      "            title='Posterior probability distribution after 20 heads and 20 tails')\n",
      "ppl.plot(ax, x_coin, stats.beta(22, 22).pdf(x_coin), linewidth=3.)\n",
      "ax.set_xticklabels(['0\\%', '20\\%', '40\\%', '60\\%', '80\\%', '100\\%']);\n",
      "fig.savefig('coin4.png')"
     ],
     "language": "python",
     "metadata": {
      "slideshow": {
       "slide_type": "skip"
      }
     },
     "outputs": [
      {
       "metadata": {},
       "output_type": "display_data",
       "png": "[encoded data removed]",
       "text": [
        "<matplotlib.figure.Figure at 0x108986b50>"
       ]
      }
     ],
     "prompt_number": 12
    },
    {
     "cell_type": "code",
     "collapsed": false,
     "input": [
      "Image('coin4.png')"
     ],
     "language": "python",
     "metadata": {
      "slideshow": {
       "slide_type": "subslide"
      }
     },
     "outputs": [
      {
       "metadata": {},
       "output_type": "pyout",
       "png": "[encoded data removed]",
       "prompt_number": 13,
       "text": [
        "<IPython.core.display.Image at 0x108950b90>"
       ]
      }
     ],
     "prompt_number": 13
    },
    {
     "cell_type": "markdown",
     "metadata": {},
     "source": [
      "$$ P(\\theta | [h=20, t=20]) = \\text{Beta}(22, 22) $$"
     ]
    },
    {
     "cell_type": "markdown",
     "metadata": {
      "slideshow": {
       "slide_type": "slide"
      }
     },
     "source": [
      "# Bayes Formula\n",
      "\n",
      "$$P(\\theta| \\text{data}) \\propto P(\\theta) \\ast P(\\text{data} |\\theta)$$\n",
      "$$\\text{posterior} \\propto \\text{prior} \\ast \\text{likelihood}$$\n",
      "\n",
      "$\\theta$: Parameters of model (chance of getting heads)).\n",
      "\n",
      "* Except in simple cases, **posterior impossible to compute** analytically.\n",
      "* Blackbox **approximation** algorithm: Markov-Chain Monte Carlo (MCMC) instead draws **samples** from the posterior."
     ]
    },
    {
     "cell_type": "code",
     "collapsed": false,
     "input": [
      "from scipy import stats\n",
      "fig = ppl.plt.figure(figsize=(14, 6))\n",
      "ax1 = fig.add_subplot(121, title='What we want', ylim=(0, .5), xlabel=r'$\\theta$', ylabel=r'$P(\\theta)$')\n",
      "ppl.plot(ax1, np.linspace(-4, 4, 100), stats.norm.pdf(np.linspace(-3, 3, 100)), linewidth=4.)\n",
      "ax2 = fig.add_subplot(122, title='What we get', xlim=(-4, 4), ylim=(0, 1800), xlabel=r'$\\theta$', ylabel='\\# of samples')\n",
      "ppl.hist(ax2, np.random.randn(10000), bins=20);\n",
      "fig.savefig('wantget.png')"
     ],
     "language": "python",
     "metadata": {
      "slideshow": {
       "slide_type": "skip"
      }
     },
     "outputs": [],
     "prompt_number": "*"
    },
    {
     "cell_type": "markdown",
     "metadata": {
      "slideshow": {
       "slide_type": "subslide"
      }
     },
     "source": [
      "## Approximating the posterior with MCMC sampling"
     ]
    },
    {
     "cell_type": "code",
     "collapsed": false,
     "input": [
      "Image('wantget.png')"
     ],
     "language": "python",
     "metadata": {
      "slideshow": {
       "slide_type": "-"
      }
     },
     "outputs": []
    },
    {
     "cell_type": "markdown",
     "metadata": {
      "slideshow": {
       "slide_type": "slide"
      }
     },
     "source": [
      "PyMC3\n",
      "=====\n",
      "\n",
      "* Probabilistic Programming framework written in Python.\n",
      "* Allows for construction of probabilistic models using intuitive syntax.\n",
      "* Features advanced MCMC samplers.\n",
      "* Fast: Just-in-time compiled by Theano.\n",
      "* **Extensible**: easily incorporates custom MCMC algorithms and unusual probability distributions."
     ]
    },
    {
     "cell_type": "markdown",
     "metadata": {
      "slideshow": {
       "slide_type": "slide"
      }
     },
     "source": [
      "# Linear Models\n",
      "\n",
      "* Assumes a linear relationship between two variables.\n",
      "* E.g. stock price between Gold and Gold Miners."
     ]
    },
    {
     "cell_type": "code",
     "collapsed": false,
     "input": [
      "size = 200\n",
      "true_intercept = 1\n",
      "true_slope = 2\n",
      "\n",
      "x = np.linspace(0, 1, size)\n",
      "# y = a + b*x\n",
      "true_regression_line = true_intercept + true_slope * x\n",
      "# add noise\n",
      "y = true_regression_line + np.random.normal(scale=.5, size=size)\n",
      "\n",
      "data = dict(x=x, y=y)"
     ],
     "language": "python",
     "metadata": {
      "slideshow": {
       "slide_type": "skip"
      }
     },
     "outputs": []
    },
    {
     "cell_type": "code",
     "collapsed": false,
     "input": [
      "fig = plt.figure(figsize=(7, 7))\n",
      "ax = fig.add_subplot(111, xlabel='Value of gold', ylabel='Value of gold miners', title='Synthetic data and underlying model')\n",
      "ppl.scatter(ax, x, y, label='sampled data')\n",
      "ppl.plot(ax, x, true_regression_line, label='true regression line', linewidth=4.)\n",
      "ax.legend(loc=2);\n",
      "fig.savefig('synth_data.png')"
     ],
     "language": "python",
     "metadata": {
      "slideshow": {
       "slide_type": "skip"
      }
     },
     "outputs": []
    },
    {
     "cell_type": "code",
     "collapsed": false,
     "input": [
      "Image('synth_data.png')"
     ],
     "language": "python",
     "metadata": {
      "slideshow": {
       "slide_type": "fragment"
      }
     },
     "outputs": []
    },
    {
     "cell_type": "markdown",
     "metadata": {
      "slideshow": {
       "slide_type": "slide"
      }
     },
     "source": [
      "Linear Regression\n",
      "=================\n",
      "\n",
      "$$ y_i = \\alpha + \\beta \\ast x_i  + \\epsilon $$\n",
      "\n",
      "with $$ \\epsilon \\sim \\mathcal{N}(0, \\sigma^2) $$\n",
      "\n",
      "Probabilistic Reformulation\n",
      "---------------------------\n",
      "\n",
      "$$ y_i \\sim \\mathcal{N}(\\alpha + \\beta \\ast x_i, \\sigma^2) $$\n",
      "\n",
      "### Priors\n",
      "\n",
      "$$ \\alpha \\sim \\mathcal{N}(0, 20^2) $$\n",
      "$$ \\beta \\sim \\mathcal{N}(0, 20^2) $$\n",
      "$$ \\sigma \\sim \\mathcal{U}(0, 20) $$\n"
     ]
    },
    {
     "cell_type": "markdown",
     "metadata": {
      "slideshow": {
       "slide_type": "subslide"
      }
     },
     "source": [
      "## Constructing model in PyMC3"
     ]
    },
    {
     "cell_type": "code",
     "collapsed": false,
     "input": [
      "import pymc as pm\n",
      "\n",
      "with pm.Model() as model: # model specifications in PyMC3 are wrapped in a with-statement\n",
      "    # Define priors\n",
      "    alpha = pm.Normal('alpha', mu=0, sd=20)\n",
      "    beta = pm.Normal('beta', mu=0, sd=20)\n",
      "    sigma = pm.Uniform('sigma', lower=0, upper=20)\n",
      "    \n",
      "    # Define linear regression\n",
      "    y_est = alpha + beta * x\n",
      "    \n",
      "    # Define likelihood\n",
      "    likelihood = pm.Normal('y', mu=y_est, sd=sigma, observed=y)\n",
      "    \n",
      "    # Inference!\n",
      "    start = pm.find_MAP() # Find starting value by optimization\n",
      "    step = pm.NUTS(state=start) # Instantiate MCMC sampling algorithm\n",
      "    trace = pm.sample(2000, step, start=start, progressbar=False) # draw 2000 posterior samples using NUTS sampling"
     ],
     "language": "python",
     "metadata": {
      "slideshow": {
       "slide_type": "-"
      }
     },
     "outputs": []
    },
    {
     "cell_type": "markdown",
     "metadata": {
      "slideshow": {
       "slide_type": "subslide"
      }
     },
     "source": [
      "# Covenience function glm()"
     ]
    },
    {
     "cell_type": "code",
     "collapsed": false,
     "input": [
      "with pm.Model() as model:\n",
      "    # specify glm and pass in data. The resulting linear model, its likelihood and \n",
      "    # and all its parameters are automatically added to our model.\n",
      "    pm.glm.glm('y ~ x', data)\n",
      "    step = pm.NUTS() # Instantiate MCMC sampling algorithm\n",
      "    trace = pm.sample(2000, step, progressbar=False) # draw 2000 posterior samples using NUTS sampling"
     ],
     "language": "python",
     "metadata": {},
     "outputs": []
    },
    {
     "cell_type": "markdown",
     "metadata": {
      "slideshow": {
       "slide_type": "subslide"
      }
     },
     "source": [
      "# Posterior"
     ]
    },
    {
     "cell_type": "code",
     "collapsed": false,
     "input": [
      "fig = pm.traceplot(trace, lines={'alpha': 1, 'beta': 2, 'sigma': .5});"
     ],
     "language": "python",
     "metadata": {},
     "outputs": []
    },
    {
     "cell_type": "code",
     "collapsed": false,
     "input": [
      "fig = plt.figure(figsize=(10, 10))\n",
      "ax = fig.add_subplot(111, xlabel='Value of gold', ylabel='Value of gold miners', title='Posterior predictive regression lines')\n",
      "ppl.scatter(ax, x, y, label='data')\n",
      "glm.plot_posterior_predictive(trace, samples=100, \n",
      "                              label='posterior predictive regression lines')\n",
      "ppl.plot(ax, x, true_regression_line, label='true regression line', linewidth=5.)\n",
      "ax.legend(loc=0);\n",
      "fig.savefig('ppc1.png')"
     ],
     "language": "python",
     "metadata": {
      "slideshow": {
       "slide_type": "skip"
      }
     },
     "outputs": []
    },
    {
     "cell_type": "code",
     "collapsed": false,
     "input": [
      "Image('ppc1.png')"
     ],
     "language": "python",
     "metadata": {
      "slideshow": {
       "slide_type": "subslide"
      }
     },
     "outputs": []
    },
    {
     "cell_type": "markdown",
     "metadata": {
      "slideshow": {
       "slide_type": "slide"
      }
     },
     "source": [
      "# Robust Regression"
     ]
    },
    {
     "cell_type": "code",
     "collapsed": false,
     "input": [
      "# Add outliers\n",
      "x_out = np.append(x, [.1, .15, .2, .25, .25])\n",
      "y_out = np.append(y, [8, 6, 9, 7, 9])\n",
      "\n",
      "data_out = dict(x=x_out, y=y_out)\n",
      "fig = plt.figure(figsize=(7, 7))\n",
      "ax = fig.add_subplot(111,  xlabel='Value of gold', ylabel='Value of gold miners', title='Posterior predictive regression lines')\n",
      "ppl.scatter(ax, x_out, y_out, label='data')"
     ],
     "language": "python",
     "metadata": {
      "slideshow": {
       "slide_type": "subslide"
      }
     },
     "outputs": []
    },
    {
     "cell_type": "code",
     "collapsed": false,
     "input": [
      "with Model() as model:\n",
      "    glm.glm('y ~ x', data_out)\n",
      "    trace = sample(2000, NUTS(), progressbar=False)"
     ],
     "language": "python",
     "metadata": {
      "slideshow": {
       "slide_type": "subslide"
      }
     },
     "outputs": []
    },
    {
     "cell_type": "code",
     "collapsed": false,
     "input": [
      "fig = plt.figure(figsize=(10, 10))\n",
      "ax = fig.add_subplot(111,  xlabel='Value of gold', ylabel='Value of gold miners', title='Posterior predictive regression lines')\n",
      "ppl.scatter(ax, x_out, y_out, label='data')\n",
      "glm.plot_posterior_predictive(trace, samples=100, \n",
      "                              label='posterior predictive regression lines')\n",
      "ppl.plot(ax, x, true_regression_line, \n",
      "         label='true regression line', linewidth=5.)\n",
      "\n",
      "plt.legend(loc=0);\n",
      "fig.savefig('ppc2.png')"
     ],
     "language": "python",
     "metadata": {
      "slideshow": {
       "slide_type": "skip"
      }
     },
     "outputs": []
    },
    {
     "cell_type": "code",
     "collapsed": false,
     "input": [
      "Image('ppc2.png')"
     ],
     "language": "python",
     "metadata": {
      "slideshow": {
       "slide_type": "subslide"
      }
     },
     "outputs": []
    },
    {
     "cell_type": "code",
     "collapsed": false,
     "input": [
      "fig = plt.figure(figsize=(8, 6))\n",
      "ax = fig.add_subplot(111)\n",
      "normal_dist = Normal.dist(mu=0, sd=1)\n",
      "t_dist = T.dist(mu=0, lam=1, nu=1)\n",
      "x_eval = np.linspace(-8, 8, 300)\n",
      "ppl.plot(ax, x_eval, theano.tensor.exp(normal_dist.logp(x_eval)).eval(), label='Normal', linewidth=2.)\n",
      "ppl.plot(ax, x_eval, theano.tensor.exp(t_dist.logp(x_eval)).eval(), label='Student T', linewidth=2.)\n",
      "plt.xlabel('x')\n",
      "plt.ylabel('Probability density')\n",
      "plt.legend();\n",
      "fig.savefig('t-dist.png')"
     ],
     "language": "python",
     "metadata": {
      "slideshow": {
       "slide_type": "skip"
      }
     },
     "outputs": []
    },
    {
     "cell_type": "markdown",
     "metadata": {},
     "source": [
      "# Fit strongly biased by outliers\n",
      "\n",
      "* Normal distribution has very light tails.\n",
      "* -> sensitive to outliers.\n",
      "* Instead, use Student T distribution with heavier tails."
     ]
    },
    {
     "cell_type": "code",
     "collapsed": false,
     "input": [
      "Image('t-dist.png')"
     ],
     "language": "python",
     "metadata": {
      "slideshow": {
       "slide_type": "subslide"
      }
     },
     "outputs": []
    },
    {
     "cell_type": "code",
     "collapsed": false,
     "input": [
      "with pm.Model() as model_robust:\n",
      "    family = pm.glm.families.T()\n",
      "    pm.glm.glm('y ~ x', data_out, family=family)\n",
      "    \n",
      "    trace_robust = pm.sample(2000, pm.NUTS(), progressbar=False)"
     ],
     "language": "python",
     "metadata": {
      "slideshow": {
       "slide_type": "subslide"
      }
     },
     "outputs": []
    },
    {
     "cell_type": "code",
     "collapsed": false,
     "input": [
      "fig = plt.figure(figsize=(10, 10))\n",
      "ax = fig.add_subplot(111, xlabel='Value of gold', ylabel='Value of gold miners', title='Posterior predictive regression lines')\n",
      "ppl.scatter(ax, x_out, y_out)\n",
      "glm.plot_posterior_predictive(trace_robust, samples=100,\n",
      "                              label='posterior predictive regression lines')\n",
      "ppl.plot(ax, x, true_regression_line, \n",
      "         label='true regression line', linewidth=5.)\n",
      "plt.legend();\n",
      "fig.savefig('ppc3.png')"
     ],
     "language": "python",
     "metadata": {
      "slideshow": {
       "slide_type": "skip"
      }
     },
     "outputs": []
    },
    {
     "cell_type": "code",
     "collapsed": false,
     "input": [
      "Image('ppc3.png')"
     ],
     "language": "python",
     "metadata": {
      "slideshow": {
       "slide_type": "subslide"
      }
     },
     "outputs": []
    },
    {
     "cell_type": "markdown",
     "metadata": {
      "slideshow": {
       "slide_type": "slide"
      }
     },
     "source": [
      "Real-world example: Algorithmic Trading\n",
      "=======================================\n",
      "\n",
      "* Pairtrading is a famous technique that plays two stocks against each other.\n",
      "* For this to work, stocks must be correlated (cointegrated).\n",
      "* One common example is the price of gold (GLD) and the price of gold mining operations (GDX)."
     ]
    },
    {
     "cell_type": "code",
     "collapsed": false,
     "input": [
      "import zipline\n",
      "import pytz\n",
      "from datetime import datetime\n",
      "fig = plt.figure(figsize=(8, 4))\n",
      "\n",
      "prices = zipline.data.load_from_yahoo(stocks=['GLD', 'GDX'], \n",
      "                                 end=datetime(2013, 8, 1, 0, 0, 0, 0, pytz.utc)).dropna()[:1000]\n",
      "prices.plot();"
     ],
     "language": "python",
     "metadata": {
      "slideshow": {
       "slide_type": "subslide"
      }
     },
     "outputs": []
    },
    {
     "cell_type": "code",
     "collapsed": false,
     "input": [
      "fig = plt.figure(figsize=(9, 6))\n",
      "ax = fig.add_subplot(111, xlabel='Price GDX in \\$', ylabel='Price GLD in \\$')\n",
      "colors = np.linspace(0.1, 1, len(prices))\n",
      "mymap = plt.get_cmap(\"winter\")\n",
      "sc = ax.scatter(prices.GDX, prices.GLD, c=colors, cmap=mymap, lw=0)\n",
      "cb = plt.colorbar(sc)\n",
      "cb.ax.set_yticklabels([str(p.date()) for p in prices[::len(prices)//10].index]);\n",
      "fig.savefig('price_corr.png')"
     ],
     "language": "python",
     "metadata": {
      "slideshow": {
       "slide_type": "skip"
      }
     },
     "outputs": []
    },
    {
     "cell_type": "code",
     "collapsed": false,
     "input": [
      "Image('price_corr.png')"
     ],
     "language": "python",
     "metadata": {
      "slideshow": {
       "slide_type": "subslide"
      }
     },
     "outputs": []
    },
    {
     "cell_type": "markdown",
     "metadata": {
      "slideshow": {
       "slide_type": "subslide"
      }
     },
     "source": [
      "# Naive model assumes constant linear regression."
     ]
    },
    {
     "cell_type": "code",
     "collapsed": false,
     "input": [
      "with pm.Model() as model_reg:\n",
      "    family = pm.glm.families.Normal()\n",
      "    pm.glm.glm('GLD ~ GDX', prices, family=family)\n",
      "    trace_reg = pm.sample(2000, pm.NUTS(), progressbar=False)"
     ],
     "language": "python",
     "metadata": {},
     "outputs": []
    },
    {
     "cell_type": "heading",
     "level": 2,
     "metadata": {
      "slideshow": {
       "slide_type": "subslide"
      }
     },
     "source": [
      "Hm... kinda unsatisfying..."
     ]
    },
    {
     "cell_type": "code",
     "collapsed": false,
     "input": [
      "fig = plt.figure(figsize=(9, 6))\n",
      "ax = fig.add_subplot(111, xlabel='Price GDX in $', ylabel='Price GLD in $', \n",
      "            title='Posterior predictive regression lines')\n",
      "sc = ax.scatter(prices.GDX, prices.GLD, c=colors, cmap=mymap, lw=0)\n",
      "glm.plot_posterior_predictive(trace_reg, samples=100, \n",
      "                              label='posterior predictive regression lines',\n",
      "                              lm=lambda x, sample: sample['Intercept'] + sample['GDX'] * x,\n",
      "                              eval=np.linspace(prices.GDX.min(), prices.GDX.max(), 100))\n",
      "cb = plt.colorbar(sc)\n",
      "cb.ax.set_yticklabels([str(p.date()) for p in prices[::len(prices)//10].index]);\n",
      "ax.legend(loc=0);\n",
      "fig.savefig('ppc4.png')"
     ],
     "language": "python",
     "metadata": {
      "slideshow": {
       "slide_type": "skip"
      }
     },
     "outputs": []
    },
    {
     "cell_type": "code",
     "collapsed": false,
     "input": [
      "Image('ppc4.png')"
     ],
     "language": "python",
     "metadata": {},
     "outputs": []
    },
    {
     "cell_type": "markdown",
     "metadata": {
      "slideshow": {
       "slide_type": "fragment"
      }
     },
     "source": [
      "* Clearly the regression between GDX and GLD changes over time.\n",
      "* But it does so gradually.\n",
      "* Can we build a model that allows for gradual changes in the coefficients?\n",
      "* YES!"
     ]
    },
    {
     "cell_type": "markdown",
     "metadata": {
      "slideshow": {
       "slide_type": "subslide"
      }
     },
     "source": [
      "Improved model\n",
      "==============\n",
      "\n",
      "* Assumes that intercept and slope follow a **random walk**.\n",
      "* At each time-point, the coefficients can move a step from their previous values.\n",
      "* This allows the coefficients to track the regression as it changes over time.\n",
      "\n",
      "$$ \\alpha_t \\sim \\mathcal{N}(\\alpha_{t-1}, \\sigma_\\alpha^2) $$\n",
      "$$ \\beta_t \\sim \\mathcal{N}(\\beta_{t-1}, \\sigma_\\beta^2) $$"
     ]
    },
    {
     "cell_type": "code",
     "collapsed": false,
     "input": [
      "from pymc.distributions.timeseries import *\n",
      "from theano.tensor import repeat"
     ],
     "language": "python",
     "metadata": {
      "slideshow": {
       "slide_type": "skip"
      }
     },
     "outputs": []
    },
    {
     "cell_type": "markdown",
     "metadata": {
      "slideshow": {
       "slide_type": "subslide"
      }
     },
     "source": [
      "## $$\\text{Priors for }\\sigma_{\\alpha}\\text{ and }\\sigma_{\\beta}$$"
     ]
    },
    {
     "cell_type": "code",
     "collapsed": false,
     "input": [
      "model_randomwalk = pm.Model()\n",
      "with model_randomwalk:\n",
      "    # std of random walk, best sampled in log space.\n",
      "    sigma_alpha, log_sigma_alpha = model_randomwalk.TransformedVar(\n",
      "                            'sigma_alpha', \n",
      "                            pm.Exponential.dist(1./.02, testval = .1), \n",
      "                            pm.logtransform\n",
      "    )\n",
      "    sigma_beta, log_sigma_beta = model_randomwalk.TransformedVar(\n",
      "                            'sigma_beta', \n",
      "                            pm.Exponential.dist(1./.02, testval = .1),\n",
      "                            pm.logtransform\n",
      "    )"
     ],
     "language": "python",
     "metadata": {
      "slideshow": {
       "slide_type": "-"
      }
     },
     "outputs": []
    },
    {
     "cell_type": "markdown",
     "metadata": {
      "slideshow": {
       "slide_type": "subslide"
      }
     },
     "source": [
      "## Define regression coefficients to follow a random walk."
     ]
    },
    {
     "cell_type": "code",
     "collapsed": false,
     "input": [
      "# To make the model simpler, we will apply the same coefficient for 50 data points at a time\n",
      "subsample_alpha = 50\n",
      "subsample_beta = 50\n",
      "\n",
      "with model_randomwalk:\n",
      "    alpha = pm.GaussianRandomWalk('alpha', sigma_alpha**-2, \n",
      "                               shape=len(prices) / subsample_alpha)\n",
      "    beta = pm.GaussianRandomWalk('beta', sigma_beta**-2, \n",
      "                              shape=len(prices) / subsample_beta)\n",
      "    \n",
      "    # Make coefficients have the same length as prices\n",
      "    alpha_r = repeat(alpha, subsample_alpha)\n",
      "    beta_r = repeat(beta, subsample_beta)    "
     ],
     "language": "python",
     "metadata": {
      "slideshow": {
       "slide_type": "-"
      }
     },
     "outputs": []
    },
    {
     "cell_type": "markdown",
     "metadata": {
      "slideshow": {
       "slide_type": "subslide"
      }
     },
     "source": [
      "## Define regression and likelihood"
     ]
    },
    {
     "cell_type": "code",
     "collapsed": false,
     "input": [
      "with model_randomwalk:\n",
      "    # Define regression\n",
      "    regression = alpha_r + beta_r * prices.GDX.values\n",
      "    \n",
      "    # Assume prices are Normally distributed, the mean comes from the regression.\n",
      "    sd = pm.Uniform('sd', 0, 20)\n",
      "    likelihood = pm.Normal('y', \n",
      "                           mu=regression, \n",
      "                           sd=sd, \n",
      "                           observed=prices.GLD.values)"
     ],
     "language": "python",
     "metadata": {
      "slideshow": {
       "slide_type": "-"
      }
     },
     "outputs": []
    },
    {
     "cell_type": "markdown",
     "metadata": {
      "slideshow": {
       "slide_type": "subslide"
      }
     },
     "source": [
      "Inference!\n",
      "=========="
     ]
    },
    {
     "cell_type": "code",
     "collapsed": false,
     "input": [
      "from scipy import optimize\n",
      "with model_randomwalk:\n",
      "    # First optimize random walk\n",
      "    start = pm.find_MAP(vars=[alpha, beta], fmin=optimize.fmin_l_bfgs_b)\n",
      "    \n",
      "    # Sample\n",
      "    step = pm.NUTS(scaling=start)\n",
      "    trace_rw = pm.sample(2000, step, start=start, progressbar=False)"
     ],
     "language": "python",
     "metadata": {},
     "outputs": []
    },
    {
     "cell_type": "markdown",
     "metadata": {
      "slideshow": {
       "slide_type": "subslide"
      }
     },
     "source": [
      "# **intercept** changes over time."
     ]
    },
    {
     "cell_type": "code",
     "collapsed": false,
     "input": [
      "fig = plt.figure(figsize=(8, 6))\n",
      "ax = plt.subplot(111, xlabel='time', ylabel='alpha', title='Change of alpha over time.')\n",
      "ppl.plot(ax, trace_rw[-1000:][alpha].T, 'r', alpha=.05);\n",
      "ax.set_xticklabels([str(p.date()) for p in prices[::len(prices)//5].index]);\n",
      "fig.savefig('rwalk_alpha.png')"
     ],
     "language": "python",
     "metadata": {
      "slideshow": {
       "slide_type": "skip"
      }
     },
     "outputs": []
    },
    {
     "cell_type": "code",
     "collapsed": false,
     "input": [
      "Image('rwalk_alpha.png')"
     ],
     "language": "python",
     "metadata": {
      "slideshow": {
       "slide_type": "fragment"
      }
     },
     "outputs": []
    },
    {
     "cell_type": "markdown",
     "metadata": {
      "slideshow": {
       "slide_type": "subslide"
      }
     },
     "source": [
      "# **Slope** changes over time."
     ]
    },
    {
     "cell_type": "code",
     "collapsed": false,
     "input": [
      "fig = plt.figure(figsize=(8, 6))\n",
      "ax = fig.add_subplot(111, xlabel='time', ylabel='beta', title='Change of beta over time')\n",
      "ppl.plot(ax, trace_rw[-1000:][beta].T, 'b', alpha=.05);\n",
      "ax.set_xticklabels([str(p.date()) for p in prices[::len(prices)//5].index]);\n",
      "fig.savefig('rwalk_beta.png')"
     ],
     "language": "python",
     "metadata": {
      "slideshow": {
       "slide_type": "skip"
      }
     },
     "outputs": []
    },
    {
     "cell_type": "code",
     "collapsed": false,
     "input": [
      "Image('rwalk_beta.png')"
     ],
     "language": "python",
     "metadata": {
      "slideshow": {
       "slide_type": "-"
      }
     },
     "outputs": []
    },
    {
     "cell_type": "markdown",
     "metadata": {
      "slideshow": {
       "slide_type": "subslide"
      }
     },
     "source": [
      "# Regression slowly adapts to best fit current data"
     ]
    },
    {
     "cell_type": "code",
     "collapsed": false,
     "input": [
      "fig = plt.figure(figsize=(8, 6))\n",
      "ax = fig.add_subplot(111, xlabel='Price GDX in \\$', ylabel='Price GLD in \\$', \n",
      "            title='Posterior predictive regression lines')\n",
      "\n",
      "colors = np.linspace(0.1, 1, len(prices))\n",
      "colors_sc = np.linspace(0.1, 1, len(trace_rw[-500::10]['alpha'].T))\n",
      "mymap = plt.get_cmap('winter')\n",
      "mymap_sc = plt.get_cmap('winter')\n",
      "\n",
      "xi = np.linspace(prices.GDX.min(), prices.GDX.max(), 50)\n",
      "for i, (alpha, beta) in enumerate(zip(trace_rw[-500::10]['alpha'].T, trace_rw[-500::10]['beta'].T)):\n",
      "    for a, b in zip(alpha, beta):\n",
      "        ax.plot(xi, a + b*xi, alpha=.05, lw=1, c=mymap_sc(colors_sc[i]))\n",
      "        \n",
      "sc = ax.scatter(prices.GDX, prices.GLD, label='data', cmap=mymap, c=colors)\n",
      "cb = plt.colorbar(sc)\n",
      "cb.ax.set_yticklabels([str(p.date()) for p in prices[::len(prices)//10].index]);\n",
      "fig.savefig('ppc5.png')"
     ],
     "language": "python",
     "metadata": {
      "slideshow": {
       "slide_type": "skip"
      }
     },
     "outputs": []
    },
    {
     "cell_type": "code",
     "collapsed": false,
     "input": [
      "Image('ppc5.png')"
     ],
     "language": "python",
     "metadata": {},
     "outputs": []
    },
    {
     "cell_type": "markdown",
     "metadata": {
      "slideshow": {
       "slide_type": "slide"
      }
     },
     "source": [
      "Conclusions\n",
      "===========\n",
      "\n",
      "* **Probabilistic Programming** allows you to tell a **genarative story**.\n",
      "* **Blackbox inference algorithms** allow estimation of **complex models**.\n",
      "* **PyMC3** puts **advanced samplers** at your fingertips."
     ]
    },
    {
     "cell_type": "markdown",
     "metadata": {
      "slideshow": {
       "slide_type": "slide"
      }
     },
     "source": [
      "# Outstanding Issues\n",
      "\n",
      "Scalability \n",
      "\n",
      "   - Variational Inference\n",
      "   - see also Max Welling's work for scaling MCMC\n",
      "\n",
      "Usability \n",
      "\n",
      "   - still too difficult to use\n",
      "   - wanted: library on top of PyMC3 with common models\n",
      "\n",
      "# Further reading\n",
      "\n",
      "* [Quantopian](https://www.quantopian.com) -- Develop trading algorithms like this in your browser.\n",
      "* [Probilistic Programming for Hackers](http://camdavidsonpilon.github.io/Probabilistic-Programming-and-Bayesian-Methods-for-Hackers/) -- IPython Notebook book on Bayesian stats using PyMC2.\n",
      "* [Doing Bayesian Data Analysis](http://www.indiana.edu/~kruschke/DoingBayesianDataAnalysis/) -- Great book by Kruschke.\n",
      "* [Get PyMC3 alpha](https://github.com/pymc-devs/pymc/tree/pymc3)\n",
      "* [My blog on all things Bayesian](https://twiecki.github.io)\n",
      "* [IPython Notebook underlying this talk](https://rawgithub.com/twiecki/pymc3_talk/master/bayesian_pymc3.ipynb)\n",
      "* Twitter: [@twiecki](https://twitter.com/twiecki)"
     ]
    }
   ],
   "metadata": {}
  }
 ]
}