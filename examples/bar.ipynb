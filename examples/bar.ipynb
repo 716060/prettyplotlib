{
 "metadata": {
  "name": ""
 },
 "nbformat": 3,
 "nbformat_minor": 0,
 "worksheets": [
  {
   "cells": [
    {
     "cell_type": "markdown",
     "metadata": {},
     "source": [
      "# `prettyplotlib.bar`\n",
      "\n",
      "The default `matplotlib` bar charts are okay, but they leave much to be desired."
     ]
    },
    {
     "cell_type": "code",
     "collapsed": false,
     "input": [
      "import matplotlib.pyplot as plt\n",
      "import numpy as np\n",
      "import string\n",
      "\n",
      "fig, ax = plt.subplots(1)\n",
      "\n",
      "np.random.seed(14)\n",
      "\n",
      "ax.bar(np.arange(10), np.abs(np.random.randn(10)))\n",
      "fig.savefig('bar_matplotlib_default.png')"
     ],
     "language": "python",
     "metadata": {},
     "outputs": [
      {
       "metadata": {},
       "output_type": "display_data",
       "png": "[encoded data removed]",
       "text": [
        "<matplotlib.figure.Figure at 0x105c5a2d0>"
       ]
      }
     ],
     "prompt_number": 1
    },
    {
     "cell_type": "code",
     "collapsed": false,
     "input": [
      "rands??"
     ],
     "language": "python",
     "metadata": {},
     "outputs": [
      {
       "output_type": "stream",
       "stream": "stdout",
       "text": [
        "Object `rands` not found.\n"
       ]
      }
     ],
     "prompt_number": 2
    },
    {
     "cell_type": "code",
     "collapsed": false,
     "input": [
      "np.float_"
     ],
     "language": "python",
     "metadata": {},
     "outputs": [
      {
       "metadata": {},
       "output_type": "pyout",
       "prompt_number": 3,
       "text": [
        "numpy.float64"
       ]
      }
     ],
     "prompt_number": 3
    },
    {
     "cell_type": "code",
     "collapsed": false,
     "input": [
      "import prettyplotlib as ppl\n",
      "from prettyplotlib import plt\n",
      "from pandas.util.testing import rands\n",
      "\n",
      "\n",
      "fig, ax = plt.subplots(1)\n",
      "\n",
      "np.random.seed(14)\n",
      "\n",
      "ppl.bar(ax, np.arange(10), np.abs(np.random.randn(10)))\n",
      "\n",
      "fig.savefig('bar_prettyplotlib_default.png')"
     ],
     "language": "python",
     "metadata": {},
     "outputs": [
      {
       "metadata": {},
       "output_type": "display_data",
       "png": "[encoded data removed]",
       "text": [
        "<matplotlib.figure.Figure at 0x105c848d0>"
       ]
      }
     ],
     "prompt_number": 4
    },
    {
     "cell_type": "markdown",
     "metadata": {},
     "source": [
      "And as with `prettyplotlib.hist`, you can also add a grid:"
     ]
    },
    {
     "cell_type": "code",
     "collapsed": false,
     "input": [
      "import prettyplotlib as ppl\n",
      "from prettyplotlib import plt\n",
      "\n",
      "fig, ax = plt.subplots(1)\n",
      "\n",
      "np.random.seed(14)\n",
      "\n",
      "# 'y' for make a grid based on where the major ticks are on the y-axis\n",
      "ppl.bar(ax, np.arange(10), np.abs(np.random.randn(10)), grid='y')\n",
      "fig.savefig('bar_prettyplotlib_grid.png')"
     ],
     "language": "python",
     "metadata": {},
     "outputs": [
      {
       "metadata": {},
       "output_type": "display_data",
       "png": "[encoded data removed]",
       "text": [
        "<matplotlib.figure.Figure at 0x105c75ed0>"
       ]
      }
     ],
     "prompt_number": 5
    },
    {
     "cell_type": "code",
     "collapsed": false,
     "input": [
      "import prettyplotlib as ppl\n",
      "from prettyplotlib import plt\n",
      "import numpy as np\n",
      "import string\n",
      "\n",
      "fig, ax = plt.subplots(1)\n",
      "np.random.seed(14)\n",
      "n = 10\n",
      "ppl.bar(ax, np.arange(n), np.abs(np.random.randn(n)), annotate=True)"
     ],
     "language": "python",
     "metadata": {},
     "outputs": [
      {
       "output_type": "stream",
       "stream": "stdout",
       "text": [
        "x 0.4   h 1.55133911125   offset 0.06875   verticalalignment bottom\n",
        "x 1.4   h 0.0791860246088   offset 0.06875   verticalalignment bottom\n",
        "x 2.4   h 0.173976528456   offset 0.06875   verticalalignment bottom\n",
        "x 3.4   h 0.0723365661662   offset 0.06875   verticalalignment bottom\n",
        "x 4.4   h 2.00432940017   offset 0.06875   verticalalignment bottom\n",
        "x 5.4   h 0.14467781319   offset 0.06875   verticalalignment bottom\n",
        "x 6.4   h 1.5011686223   offset 0.06875   verticalalignment bottom\n",
        "x 7.4   h 0.211109450951   offset 0.06875   verticalalignment bottom\n",
        "x 8.4   h 0.558205055376   offset 0.06875   verticalalignment bottom\n",
        "x 9.4   h 1.08452906488   offset 0.06875   verticalalignment bottom\n"
       ]
      },
      {
       "metadata": {},
       "output_type": "display_data",
       "png": "[encoded data removed]",
       "text": [
        "<matplotlib.figure.Figure at 0x105c6c7d0>"
       ]
      }
     ],
     "prompt_number": 6
    },
    {
     "cell_type": "code",
     "collapsed": false,
     "input": [
      "np.array(np.arange(10))"
     ],
     "language": "python",
     "metadata": {},
     "outputs": [
      {
       "metadata": {},
       "output_type": "pyout",
       "prompt_number": 7,
       "text": [
        "array([0, 1, 2, 3, 4, 5, 6, 7, 8, 9])"
       ]
      }
     ],
     "prompt_number": 7
    },
    {
     "cell_type": "code",
     "collapsed": false,
     "input": [],
     "language": "python",
     "metadata": {},
     "outputs": [],
     "prompt_number": 7
    }
   ],
   "metadata": {}
  }
 ]
}