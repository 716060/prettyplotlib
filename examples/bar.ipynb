{
 "metadata": {
  "name": ""
 },
 "nbformat": 3,
 "nbformat_minor": 0,
 "worksheets": [
  {
   "cells": [
    {
     "cell_type": "markdown",
     "metadata": {},
     "source": [
      "# `prettyplotlib.bar`\n",
      "\n",
      "The default `matplotlib` bar charts are okay, but they leave much to be desired."
     ]
    },
    {
     "cell_type": "code",
     "collapsed": false,
     "input": [
      "import matplotlib.pyplot as plt\n",
      "import numpy as np\n",
      "import string\n",
      "\n",
      "fig, ax = plt.subplots(1)\n",
      "\n",
      "np.random.seed(14)\n",
      "\n",
      "ax.bar(np.arange(10), np.abs(np.random.randn(10)))\n",
      "fig.savefig('bar_matplotlib_default.png')"
     ],
     "language": "python",
     "metadata": {},
     "outputs": [
      {
       "metadata": {},
       "output_type": "display_data",
       "png": "[encoded data removed]",
       "text": [
        "<matplotlib.figure.Figure at 0x106ac7090>"
       ]
      }
     ],
     "prompt_number": 19
    },
    {
     "cell_type": "code",
     "collapsed": false,
     "input": [
      "rands??"
     ],
     "language": "python",
     "metadata": {},
     "outputs": [],
     "prompt_number": 14
    },
    {
     "cell_type": "code",
     "collapsed": false,
     "input": [
      "np.float_"
     ],
     "language": "python",
     "metadata": {},
     "outputs": [
      {
       "metadata": {},
       "output_type": "pyout",
       "prompt_number": 37,
       "text": [
        "numpy.float64"
       ]
      }
     ],
     "prompt_number": 37
    },
    {
     "cell_type": "code",
     "collapsed": false,
     "input": [
      "import prettyplotlib as ppl\n",
      "from prettyplotlib import plt\n",
      "from pandas.util.testing import rands\n",
      "\n",
      "\n",
      "fig, ax = plt.subplots(1)\n",
      "\n",
      "np.random.seed(14)\n",
      "\n",
      "ppl.bar(ax, np.arange(10), np.abs(np.random.randn(10)))\n",
      "\n",
      "fig.savefig('bar_prettyplotlib_default.png')"
     ],
     "language": "python",
     "metadata": {},
     "outputs": [
      {
       "output_type": "stream",
       "stream": "stdout",
       "text": [
        "annotate False"
       ]
      },
      {
       "metadata": {},
       "output_type": "display_data",
       "png": "[encoded data removed]",
       "text": [
        "<matplotlib.figure.Figure at 0x107cacf90>"
       ]
      }
     ],
     "prompt_number": 3
    },
    {
     "cell_type": "markdown",
     "metadata": {},
     "source": [
      "And as with `prettyplotlib.hist`, you can also add a grid:"
     ]
    },
    {
     "cell_type": "code",
     "collapsed": false,
     "input": [
      "import prettyplotlib as ppl\n",
      "from prettyplotlib import plt\n",
      "\n",
      "fig, ax = plt.subplots(1)\n",
      "\n",
      "np.random.seed(14)\n",
      "\n",
      "# 'y' for make a grid based on where the major ticks are on the y-axis\n",
      "ppl.bar(ax, np.arange(10), np.abs(np.random.randn(10)), grid='y')\n",
      "fig.savefig('bar_prettyplotlib_grid.png')"
     ],
     "language": "python",
     "metadata": {},
     "outputs": [
      {
       "metadata": {},
       "output_type": "display_data",
       "png": "[encoded data removed]",
       "text": [
        "<matplotlib.figure.Figure at 0x106abc150>"
       ]
      }
     ],
     "prompt_number": 3
    },
    {
     "cell_type": "code",
     "collapsed": false,
     "input": [
      "import prettyplotlib as ppl\n",
      "from prettyplotlib import plt\n",
      "import numpy as np\n",
      "import string\n",
      "\n",
      "fig, ax = plt.subplots(1)\n",
      "np.random.seed(14)\n",
      "n = 10\n",
      "ppl.bar(ax, np.arange(n), np.abs(np.random.randn(n)), annotate=True)"
     ],
     "language": "python",
     "metadata": {},
     "outputs": [
      {
       "output_type": "stream",
       "stream": "stdout",
       "text": [
        "annotate Trueannotating!\n",
        "xticks [ 0.4  1.4  2.4  3.4  4.4  5.4  6.4  7.4  8.4  9.4]\n",
        "height [ 1.55133911  0.07918602  0.17397653  0.07233657  2.0043294   0.14467781\n",
        "  1.50116862  0.21110945  0.55820506  1.08452906]\n",
        "0.4 <type 'numpy.float64'>1.55133911125 <type 'numpy.float64'>1.4 <type 'numpy.float64'>0.0791860246088 <type 'numpy.float64'>2.4 <type 'numpy.float64'>0.173976528456 <type 'numpy.float64'>3.4 <type 'numpy.float64'>0.0723365661662 <type 'numpy.float64'>4.4 <type 'numpy.float64'>2.00432940017 <type 'numpy.float64'>5.4 <type 'numpy.float64'>0.14467781319 <type 'numpy.float64'>6.4 <type 'numpy.float64'>1.5011686223 <type 'numpy.float64'>7.4 <type 'numpy.float64'>0.211109450951 <type 'numpy.float64'>8.4 <type 'numpy.float64'>0.558205055376 <type 'numpy.float64'>9.4 <type 'numpy.float64'>1.08452906488 <type 'numpy.float64'>"
       ]
      },
      {
       "metadata": {},
       "output_type": "display_data",
       "png": "[encoded data removed]",
       "text": [
        "<matplotlib.figure.Figure at 0x107c94750>"
       ]
      }
     ],
     "prompt_number": 2
    },
    {
     "cell_type": "code",
     "collapsed": false,
     "input": [
      "np.array(np.arange(10))"
     ],
     "language": "python",
     "metadata": {},
     "outputs": [
      {
       "metadata": {},
       "output_type": "pyout",
       "prompt_number": 4,
       "text": [
        "array([0, 1, 2, 3, 4, 5, 6, 7, 8, 9])"
       ]
      }
     ],
     "prompt_number": 4
    },
    {
     "cell_type": "code",
     "collapsed": false,
     "input": [],
     "language": "python",
     "metadata": {},
     "outputs": []
    }
   ],
   "metadata": {}
  }
 ]
}